{
  "nbformat": 4,
  "nbformat_minor": 0,
  "metadata": {
    "colab": {
      "name": "main.ipynb",
      "provenance": [],
      "collapsed_sections": []
    },
    "kernelspec": {
      "name": "python3",
      "display_name": "Python 3"
    },
    "language_info": {
      "name": "python"
    }
  },
  "cells": [
    {
      "cell_type": "code",
      "metadata": {
        "id": "KQIbbT36MPa5"
      },
      "source": [
        "# Part 1"
      ],
      "execution_count": 4,
      "outputs": []
    },
    {
      "cell_type": "code",
      "metadata": {
        "id": "w6iul8tAaSPk"
      },
      "source": [
        "# import libraries\n",
        "import pandas as pd\n",
        "import numpy as np\n",
        "import matplotlib.pyplot as plt\n",
        "from sklearn import model_selection, preprocessing, metrics\n",
        "\n",
        "%matplotlib inline\n",
        "\n",
        "from keras.layers import Activation, Dense, Dropout, BatchNormalization, Input\n",
        "from keras.models import Model\n",
        "from tensorflow.keras.optimizers import Adam\n",
        "from keras.callbacks import ReduceLROnPlateau, EarlyStopping\n",
        "\n",
        "from sklearn.preprocessing import Normalizer\n",
        "from keras.models import Sequential\n",
        "\n",
        "from keras import regularizers"
      ],
      "execution_count": 5,
      "outputs": []
    },
    {
      "cell_type": "code",
      "metadata": {
        "id": "6dR2WVGibUx1",
        "colab": {
          "base_uri": "https://localhost:8080/"
        },
        "outputId": "2c920ac3-95e1-42b9-f90a-13c0577600dc"
      },
      "source": [
        "# Load Dataset\n",
        "diabetesDataFrame = pd.read_csv('/content/diabetes.csv')\n",
        "print (diabetesDataFrame.head())"
      ],
      "execution_count": 6,
      "outputs": [
        {
          "output_type": "stream",
          "name": "stdout",
          "text": [
            "   Pregnancies  Glucose  BloodPressure  ...  DiabetesPedigreeFunction  Age  Outcome\n",
            "0            6      148             72  ...                     0.627   50        1\n",
            "1            1       85             66  ...                     0.351   31        0\n",
            "2            8      183             64  ...                     0.672   32        1\n",
            "3            1       89             66  ...                     0.167   21        0\n",
            "4            0      137             40  ...                     2.288   33        1\n",
            "\n",
            "[5 rows x 9 columns]\n"
          ]
        }
      ]
    },
    {
      "cell_type": "markdown",
      "metadata": {
        "id": "Oru6n74XJTaY"
      },
      "source": [
        "# New section"
      ]
    },
    {
      "cell_type": "code",
      "metadata": {
        "id": "l--Uc6aIgolk"
      },
      "source": [
        "# shuffled dataset\n",
        "# randomData = diabetesDataFrame.sample(frac=1)\n",
        "# print(randomData)\n",
        "randomData = diabetesDataFrame"
      ],
      "execution_count": 7,
      "outputs": []
    },
    {
      "cell_type": "code",
      "metadata": {
        "id": "davJW2rkEixB"
      },
      "source": [
        "# Split features & outcome\n",
        "Y = randomData.Outcome\n",
        "X = randomData.drop('Outcome', axis = 1 )\n"
      ],
      "execution_count": 8,
      "outputs": []
    },
    {
      "cell_type": "code",
      "metadata": {
        "colab": {
          "base_uri": "https://localhost:8080/"
        },
        "id": "G3UUMk5WAXKi",
        "outputId": "c633b624-ce31-4267-c70a-63f807b85ddc"
      },
      "source": [
        "# Split data\n",
        "# 60 for training, 20 for test, 20 for validation\n",
        "X_train, X_remaining, Y_train, Y_remaining = model_selection.train_test_split(X, Y, train_size = 0.60,random_state=5)\n",
        "X_val, X_test, Y_val, Y_test = model_selection.train_test_split(X_remaining, Y_remaining, test_size = 0.50)\n",
        "print(X_train)\n"
      ],
      "execution_count": 9,
      "outputs": [
        {
          "output_type": "stream",
          "name": "stdout",
          "text": [
            "     Pregnancies  Glucose  BloodPressure  ...   BMI  DiabetesPedigreeFunction  Age\n",
            "737            8       65             72  ...  32.0                     0.600   42\n",
            "325            1      157             72  ...  25.6                     0.123   24\n",
            "697            0       99              0  ...  25.0                     0.253   22\n",
            "748            3      187             70  ...  36.4                     0.408   36\n",
            "466            0       74             52  ...  27.8                     0.269   22\n",
            "..           ...      ...            ...  ...   ...                       ...  ...\n",
            "73             4      129             86  ...  35.1                     0.231   23\n",
            "400            4       95             64  ...  32.0                     0.161   31\n",
            "118            4       97             60  ...  28.2                     0.443   22\n",
            "701            6      125             78  ...  27.6                     0.565   49\n",
            "206            8      196             76  ...  37.5                     0.605   57\n",
            "\n",
            "[460 rows x 8 columns]\n"
          ]
        }
      ]
    },
    {
      "cell_type": "code",
      "metadata": {
        "colab": {
          "base_uri": "https://localhost:8080/"
        },
        "id": "piquDqfuOIa_",
        "outputId": "4c08d1f6-ca83-4179-c9f1-a60006e5b6f5"
      },
      "source": [
        "# Dataframe to values\n",
        "X_train = X_train.values\n",
        "Y_train = Y_train.values\n",
        "X_test = X_test.values\n",
        "Y_test = Y_test.values\n",
        "X_val = X_val.values\n",
        "Y_val = Y_val.values\n",
        "print(X_train)"
      ],
      "execution_count": 10,
      "outputs": [
        {
          "output_type": "stream",
          "name": "stdout",
          "text": [
            "[[8.00e+00 6.50e+01 7.20e+01 ... 3.20e+01 6.00e-01 4.20e+01]\n",
            " [1.00e+00 1.57e+02 7.20e+01 ... 2.56e+01 1.23e-01 2.40e+01]\n",
            " [0.00e+00 9.90e+01 0.00e+00 ... 2.50e+01 2.53e-01 2.20e+01]\n",
            " ...\n",
            " [4.00e+00 9.70e+01 6.00e+01 ... 2.82e+01 4.43e-01 2.20e+01]\n",
            " [6.00e+00 1.25e+02 7.80e+01 ... 2.76e+01 5.65e-01 4.90e+01]\n",
            " [8.00e+00 1.96e+02 7.60e+01 ... 3.75e+01 6.05e-01 5.70e+01]]\n"
          ]
        }
      ]
    },
    {
      "cell_type": "code",
      "metadata": {
        "colab": {
          "base_uri": "https://localhost:8080/"
        },
        "id": "PZ6Ck0SIOWVr",
        "outputId": "bb253aaa-6ad3-454b-f738-a26a966e9cde"
      },
      "source": [
        "print(\"Shape of X_train : \", X_train.shape)\n",
        "print(\"Shape of Y_train : \", Y_train.shape)\n",
        "print(\"Shape of X_test : \", X_test.shape)\n",
        "print(\"Shape of Y_test : \", Y_test.shape)\n",
        "print(\"Shape of X_val : \", X_val.shape)\n",
        "print(\"Shape of Y_yal : \", Y_val.shape)"
      ],
      "execution_count": 11,
      "outputs": [
        {
          "output_type": "stream",
          "name": "stdout",
          "text": [
            "Shape of X_train :  (460, 8)\n",
            "Shape of Y_train :  (460,)\n",
            "Shape of X_test :  (154, 8)\n",
            "Shape of Y_test :  (154,)\n",
            "Shape of X_val :  (154, 8)\n",
            "Shape of Y_yal :  (154,)\n"
          ]
        }
      ]
    },
    {
      "cell_type": "code",
      "metadata": {
        "colab": {
          "base_uri": "https://localhost:8080/"
        },
        "id": "6r3cNgLOPn29",
        "outputId": "a071bb36-97e0-48bb-f995-9d11de83f31d"
      },
      "source": [
        "# Reshaping data\n",
        "\n",
        "X_train = X_train.T\n",
        "Y_train = Y_train.reshape(1, X_train.shape[1])\n",
        "\n",
        "X_test = X_test.T\n",
        "Y_test = Y_test.reshape(1, X_test.shape[1])\n",
        "\n",
        "X_val = X_val.T\n",
        "Y_val = Y_val.reshape(1, X_val.shape[1])\n",
        "\n",
        "print(X_train.shape)\n",
        "print(Y_train.shape)\n",
        "print(X_test.shape)\n",
        "print(Y_test.shape)\n",
        "print(X_val.shape)\n",
        "print(Y_val.shape)"
      ],
      "execution_count": 12,
      "outputs": [
        {
          "output_type": "stream",
          "name": "stdout",
          "text": [
            "(8, 460)\n",
            "(1, 460)\n",
            "(8, 154)\n",
            "(1, 154)\n",
            "(8, 154)\n",
            "(1, 154)\n"
          ]
        }
      ]
    },
    {
      "cell_type": "code",
      "metadata": {
        "id": "J3mG1GMQmZIS"
      },
      "source": [
        "# Sigmoid Function\n",
        "def sigmoid(x):\n",
        "  return 1/(1+np.exp(-x))"
      ],
      "execution_count": 13,
      "outputs": []
    },
    {
      "cell_type": "code",
      "metadata": {
        "id": "lF9v3hNcSVz_"
      },
      "source": [
        "def model_accuracy(X, Y, Weight, Bias, data_type):\n",
        "\n",
        "    Z = np.dot(Weight.T, X) + Bias\n",
        "    A = sigmoid(Z)\n",
        "    \n",
        "    A = A > 0.5\n",
        "    \n",
        "    A = np.array(A, dtype = 'int64')\n",
        "    \n",
        "    acc = (1 - np.sum(np.absolute(A - Y))/Y.shape[1])*100\n",
        "\n",
        "    return acc;\n",
        "      \n"
      ],
      "execution_count": 14,
      "outputs": []
    },
    {
      "cell_type": "code",
      "metadata": {
        "id": "PYd05JNjeMb4"
      },
      "source": [
        "# Train Model Function\n",
        "def logRegModel_train(X, Y, learningRate, loop):\n",
        "  m = X_train.shape[1]\n",
        "  n = X_train.shape[0]\n",
        "\n",
        "  Weight = np.zeros((n,1))\n",
        "  bias = 0.1\n",
        "\n",
        "  cost_epoch = list()\n",
        "  accur = list()\n",
        "\n",
        "  for i in range(loop):\n",
        "    Z = np.dot(Weight.T, X) + bias\n",
        "    A = sigmoid(Z)\n",
        "\n",
        "    cost_training = -(1/m)*np.sum(Y*np.log(A) + (1-Y)*np.log(1-A))\n",
        "\n",
        "    dW = (1/m)*np.dot(A-Y, X.T)\n",
        "    db = (1/m)*np.sum(A-Y)\n",
        "\n",
        "    Weight = Weight - learningRate*dW.T\n",
        "    bias = bias - learningRate*db\n",
        "    ac = model_accuracy(X_test, Y_test, Weight, bias,'no print')\n",
        "\n",
        "    accur.append(ac)\n",
        "\n",
        "    cost_epoch.append(cost_training)\n",
        "    if((i%(loop/10)==0)):\n",
        "      print('Cost Update after ', i, 'loop is : ', cost_training)\n",
        "\n",
        "  return Weight,bias, cost_epoch, accur\n"
      ],
      "execution_count": 15,
      "outputs": []
    },
    {
      "cell_type": "code",
      "metadata": {
        "colab": {
          "base_uri": "https://localhost:8080/"
        },
        "id": "5rU-FyLhWaKm",
        "outputId": "7f523965-97d0-45ff-87ab-b7e5c77b714a"
      },
      "source": [
        "iterations = 1000000\n",
        "learning_rate = 0.0001\n",
        "Weight, Bias, cost_list_train, train_accuracy = logRegModel_train(X_train, Y_train, learningRate = learning_rate, loop = iterations)\n",
        "Wv, Bv, cost_list_validate, validation_accuracy = logRegModel_train(X_val, Y_val, learningRate = learning_rate, loop = iterations)\n"
      ],
      "execution_count": 16,
      "outputs": [
        {
          "output_type": "stream",
          "name": "stdout",
          "text": [
            "Cost Update after  0 loop is :  0.7080923122474841\n",
            "Cost Update after  100000 loop is :  0.5841594140584926\n",
            "Cost Update after  200000 loop is :  0.5719224496626524\n",
            "Cost Update after  300000 loop is :  0.5611301778553368\n",
            "Cost Update after  400000 loop is :  0.5515908308659421\n",
            "Cost Update after  500000 loop is :  0.5431394248560204\n",
            "Cost Update after  600000 loop is :  0.5356339982035464\n",
            "Cost Update after  700000 loop is :  0.5289523875068877\n",
            "Cost Update after  800000 loop is :  0.5229894614270914\n",
            "Cost Update after  900000 loop is :  0.5176547334059676\n",
            "Cost Update after  0 loop is :  0.2376893166333259\n",
            "Cost Update after  100000 loop is :  0.2052467877110793\n",
            "Cost Update after  200000 loop is :  0.20310866217914786\n",
            "Cost Update after  300000 loop is :  0.20107122131851923\n",
            "Cost Update after  400000 loop is :  0.19912749836967827\n",
            "Cost Update after  500000 loop is :  0.19727136787745742\n",
            "Cost Update after  600000 loop is :  0.19549740111926636\n",
            "Cost Update after  700000 loop is :  0.1938007484389973\n",
            "Cost Update after  800000 loop is :  0.19217704282370743\n",
            "Cost Update after  900000 loop is :  0.19062232132791943\n"
          ]
        }
      ]
    },
    {
      "cell_type": "code",
      "metadata": {
        "id": "huIWe9madEzt",
        "colab": {
          "base_uri": "https://localhost:8080/",
          "height": 294
        },
        "outputId": "90164a32-d791-4380-a246-274abaabb2d7"
      },
      "source": [
        "# Plotting graph For Training & Validation loss\n",
        "plt.plot(np.arange(iterations), cost_list_train, label='Training')\n",
        "plt.plot(np.arange(iterations), cost_list_validate, color='orange', label='Validation')\n",
        "plt.title('Comparison of Training and Validation loss')\n",
        "plt.legend(loc='upper right')\n",
        "plt.show()"
      ],
      "execution_count": 17,
      "outputs": [
        {
          "output_type": "display_data",
          "data": {
            "image/png": "[encoded data removed]",
            "text/plain": [
              "<Figure size 432x288 with 1 Axes>"
            ]
          },
          "metadata": {
            "needs_background": "light"
          }
        }
      ]
    },
    {
      "cell_type": "code",
      "metadata": {
        "id": "Ozro3uDirVM8",
        "colab": {
          "base_uri": "https://localhost:8080/",
          "height": 294
        },
        "outputId": "df3dbfc2-ad44-4832-9193-3e8cf0d6b121"
      },
      "source": [
        "# Plotting graph For Training & Validation Accuracy\n",
        "plt.plot(np.arange(iterations), train_accuracy, label='Training')\n",
        "plt.plot(np.arange(iterations), validation_accuracy, color='orange', label='Validation')\n",
        "plt.title('Comparison of Training and Validation Accuracy')\n",
        "plt.legend(loc='upper right')\n",
        "plt.show()"
      ],
      "execution_count": 18,
      "outputs": [
        {
          "output_type": "display_data",
          "data": {
            "image/png": "[encoded data removed]",
            "text/plain": [
              "<Figure size 432x288 with 1 Axes>"
            ]
          },
          "metadata": {
            "needs_background": "light"
          }
        }
      ]
    },
    {
      "cell_type": "code",
      "metadata": {
        "id": "6U038nfTdNNO",
        "colab": {
          "base_uri": "https://localhost:8080/"
        },
        "outputId": "aedf672f-7e5e-43ba-9ba5-89c8e0443b0f"
      },
      "source": [
        "# Accuracy for test data\n",
        "t_acc = model_accuracy(X_test, Y_test, Weight, Bias, 'test')\n",
        "print(\"Accuracy of the Test model is : \", round(t_acc, 2), \"%\")\n",
        "\n",
        "# Accuracy for validation data\n",
        "v_acc = model_accuracy(X_val, Y_val, Wv, Bv, 'train')\n",
        "print(\"Accuracy of the Test model is : \", round(v_acc, 2), \"%\")\n"
      ],
      "execution_count": 19,
      "outputs": [
        {
          "output_type": "stream",
          "name": "stdout",
          "text": [
            "Accuracy of the Test model is :  69.48 %\n",
            "Accuracy of the Test model is :  73.38 %\n"
          ]
        }
      ]
    },
    {
      "cell_type": "code",
      "metadata": {
        "id": "cx6rVI06MJTD"
      },
      "source": [
        "# Part 2"
      ],
      "execution_count": 20,
      "outputs": []
    },
    {
      "cell_type": "code",
      "metadata": {
        "id": "X8K_sxiCjRzX"
      },
      "source": [
        "# Neural Network Model\n",
        "\n",
        "model = Sequential()\n",
        "\n",
        "# Input Layer\n",
        "model.add(Dense(64, input_dim=8, activation='relu'))\n",
        "\n",
        "# Hidden Layer\n",
        "model.add(Dense(128, activation='relu', kernel_regularizer=regularizers.l1(0.01)))\n",
        "model.add(Dense(128, activation='relu', kernel_regularizer=regularizers.l2(0.01)))\n",
        "model.add(Dropout(0.25))\n",
        "model.add(Dense(10, activation='relu'))\n",
        "\n",
        "# Output Layer\n",
        "model.add(Dense(1, activation='sigmoid' ))"
      ],
      "execution_count": 21,
      "outputs": []
    },
    {
      "cell_type": "code",
      "metadata": {
        "id": "wK-9gE3Jj0Fv"
      },
      "source": [
        "# Compile Function\n",
        "model.compile(optimizer=Adam(learning_rate=0.001), loss='binary_crossentropy',  metrics=['accuracy'])"
      ],
      "execution_count": 22,
      "outputs": []
    },
    {
      "cell_type": "code",
      "metadata": {
        "id": "nPJGuVxdj9cY",
        "colab": {
          "base_uri": "https://localhost:8080/"
        },
        "outputId": "7abe2965-e236-4d0d-9625-63973693c3a1"
      },
      "source": [
        "# Fit Function\n",
        "history = model.fit(X_train.T,\n",
        "                    Y_train.T,\n",
        "                    epochs=100, batch_size=30,\n",
        "                    validation_data=(X_test.T, Y_test.T),\n",
        "                    verbose=2)"
      ],
      "execution_count": 23,
      "outputs": [
        {
          "output_type": "stream",
          "name": "stdout",
          "text": [
            "Epoch 1/100\n",
            "16/16 - 1s - loss: 9.0951 - accuracy: 0.5522 - val_loss: 8.1970 - val_accuracy: 0.6494\n",
            "Epoch 2/100\n",
            "16/16 - 0s - loss: 7.8662 - accuracy: 0.5891 - val_loss: 7.3277 - val_accuracy: 0.6883\n",
            "Epoch 3/100\n",
            "16/16 - 0s - loss: 6.9535 - accuracy: 0.6304 - val_loss: 6.4952 - val_accuracy: 0.6883\n",
            "Epoch 4/100\n",
            "16/16 - 0s - loss: 6.1572 - accuracy: 0.6326 - val_loss: 5.7362 - val_accuracy: 0.6883\n",
            "Epoch 5/100\n",
            "16/16 - 0s - loss: 5.4556 - accuracy: 0.6370 - val_loss: 5.0860 - val_accuracy: 0.6883\n",
            "Epoch 6/100\n",
            "16/16 - 0s - loss: 4.8131 - accuracy: 0.6500 - val_loss: 4.4899 - val_accuracy: 0.6558\n",
            "Epoch 7/100\n",
            "16/16 - 0s - loss: 4.2796 - accuracy: 0.6370 - val_loss: 3.9828 - val_accuracy: 0.6429\n",
            "Epoch 8/100\n",
            "16/16 - 0s - loss: 3.8139 - accuracy: 0.6283 - val_loss: 3.5391 - val_accuracy: 0.6818\n",
            "Epoch 9/100\n",
            "16/16 - 0s - loss: 3.4071 - accuracy: 0.6587 - val_loss: 3.1996 - val_accuracy: 0.6429\n",
            "Epoch 10/100\n",
            "16/16 - 0s - loss: 3.0899 - accuracy: 0.6500 - val_loss: 2.9004 - val_accuracy: 0.6558\n",
            "Epoch 11/100\n",
            "16/16 - 0s - loss: 2.8657 - accuracy: 0.6391 - val_loss: 2.7266 - val_accuracy: 0.6429\n",
            "Epoch 12/100\n",
            "16/16 - 0s - loss: 2.6760 - accuracy: 0.6478 - val_loss: 2.5858 - val_accuracy: 0.6558\n",
            "Epoch 13/100\n",
            "16/16 - 0s - loss: 2.5190 - accuracy: 0.6435 - val_loss: 2.4187 - val_accuracy: 0.6753\n",
            "Epoch 14/100\n",
            "16/16 - 0s - loss: 2.3790 - accuracy: 0.6457 - val_loss: 2.2839 - val_accuracy: 0.6623\n",
            "Epoch 15/100\n",
            "16/16 - 0s - loss: 2.2531 - accuracy: 0.6652 - val_loss: 2.1684 - val_accuracy: 0.6429\n",
            "Epoch 16/100\n",
            "16/16 - 0s - loss: 2.1717 - accuracy: 0.6261 - val_loss: 2.0795 - val_accuracy: 0.6818\n",
            "Epoch 17/100\n",
            "16/16 - 0s - loss: 2.0750 - accuracy: 0.6326 - val_loss: 1.9886 - val_accuracy: 0.6753\n",
            "Epoch 18/100\n",
            "16/16 - 0s - loss: 1.9702 - accuracy: 0.6413 - val_loss: 1.9211 - val_accuracy: 0.6299\n",
            "Epoch 19/100\n",
            "16/16 - 0s - loss: 1.8887 - accuracy: 0.6435 - val_loss: 1.8278 - val_accuracy: 0.6688\n",
            "Epoch 20/100\n",
            "16/16 - 0s - loss: 1.8207 - accuracy: 0.6783 - val_loss: 1.7941 - val_accuracy: 0.6104\n",
            "Epoch 21/100\n",
            "16/16 - 0s - loss: 1.7304 - accuracy: 0.6761 - val_loss: 1.6955 - val_accuracy: 0.6494\n",
            "Epoch 22/100\n",
            "16/16 - 0s - loss: 1.6709 - accuracy: 0.6652 - val_loss: 1.6262 - val_accuracy: 0.6429\n",
            "Epoch 23/100\n",
            "16/16 - 0s - loss: 1.6087 - accuracy: 0.6696 - val_loss: 1.5790 - val_accuracy: 0.6494\n",
            "Epoch 24/100\n",
            "16/16 - 0s - loss: 1.5738 - accuracy: 0.6674 - val_loss: 1.5532 - val_accuracy: 0.6039\n",
            "Epoch 25/100\n",
            "16/16 - 0s - loss: 1.5036 - accuracy: 0.6522 - val_loss: 1.4696 - val_accuracy: 0.6429\n",
            "Epoch 26/100\n",
            "16/16 - 0s - loss: 1.4434 - accuracy: 0.6696 - val_loss: 1.4188 - val_accuracy: 0.6623\n",
            "Epoch 27/100\n",
            "16/16 - 0s - loss: 1.4076 - accuracy: 0.6804 - val_loss: 1.3799 - val_accuracy: 0.6558\n",
            "Epoch 28/100\n",
            "16/16 - 0s - loss: 1.4200 - accuracy: 0.6413 - val_loss: 1.3678 - val_accuracy: 0.6558\n",
            "Epoch 29/100\n",
            "16/16 - 0s - loss: 1.3323 - accuracy: 0.6761 - val_loss: 1.3198 - val_accuracy: 0.6364\n",
            "Epoch 30/100\n",
            "16/16 - 0s - loss: 1.3115 - accuracy: 0.6522 - val_loss: 1.2660 - val_accuracy: 0.6623\n",
            "Epoch 31/100\n",
            "16/16 - 0s - loss: 1.2659 - accuracy: 0.6587 - val_loss: 1.2401 - val_accuracy: 0.6494\n",
            "Epoch 32/100\n",
            "16/16 - 0s - loss: 1.2121 - accuracy: 0.6761 - val_loss: 1.2069 - val_accuracy: 0.6494\n",
            "Epoch 33/100\n",
            "16/16 - 0s - loss: 1.1858 - accuracy: 0.6630 - val_loss: 1.1838 - val_accuracy: 0.6299\n",
            "Epoch 34/100\n",
            "16/16 - 0s - loss: 1.1606 - accuracy: 0.6674 - val_loss: 1.1411 - val_accuracy: 0.6429\n",
            "Epoch 35/100\n",
            "16/16 - 0s - loss: 1.1176 - accuracy: 0.6870 - val_loss: 1.1243 - val_accuracy: 0.6494\n",
            "Epoch 36/100\n",
            "16/16 - 0s - loss: 1.1048 - accuracy: 0.6652 - val_loss: 1.0882 - val_accuracy: 0.6688\n",
            "Epoch 37/100\n",
            "16/16 - 0s - loss: 1.0654 - accuracy: 0.6761 - val_loss: 1.0806 - val_accuracy: 0.6234\n",
            "Epoch 38/100\n",
            "16/16 - 0s - loss: 1.0555 - accuracy: 0.6739 - val_loss: 1.0491 - val_accuracy: 0.6364\n",
            "Epoch 39/100\n",
            "16/16 - 0s - loss: 1.0291 - accuracy: 0.6783 - val_loss: 1.0280 - val_accuracy: 0.6364\n",
            "Epoch 40/100\n",
            "16/16 - 0s - loss: 1.0069 - accuracy: 0.6891 - val_loss: 1.0006 - val_accuracy: 0.6558\n",
            "Epoch 41/100\n",
            "16/16 - 0s - loss: 0.9852 - accuracy: 0.6761 - val_loss: 0.9978 - val_accuracy: 0.6429\n",
            "Epoch 42/100\n",
            "16/16 - 0s - loss: 0.9582 - accuracy: 0.6739 - val_loss: 0.9722 - val_accuracy: 0.6494\n",
            "Epoch 43/100\n",
            "16/16 - 0s - loss: 0.9531 - accuracy: 0.6630 - val_loss: 0.9893 - val_accuracy: 0.6039\n",
            "Epoch 44/100\n",
            "16/16 - 0s - loss: 0.9536 - accuracy: 0.6348 - val_loss: 0.9884 - val_accuracy: 0.5909\n",
            "Epoch 45/100\n",
            "16/16 - 0s - loss: 0.9532 - accuracy: 0.6696 - val_loss: 0.9190 - val_accuracy: 0.6753\n",
            "Epoch 46/100\n",
            "16/16 - 0s - loss: 0.9050 - accuracy: 0.6826 - val_loss: 0.9110 - val_accuracy: 0.6364\n",
            "Epoch 47/100\n",
            "16/16 - 0s - loss: 0.8840 - accuracy: 0.6696 - val_loss: 0.8907 - val_accuracy: 0.6364\n",
            "Epoch 48/100\n",
            "16/16 - 0s - loss: 0.8667 - accuracy: 0.6674 - val_loss: 0.8783 - val_accuracy: 0.6364\n",
            "Epoch 49/100\n",
            "16/16 - 0s - loss: 0.8514 - accuracy: 0.6804 - val_loss: 0.8639 - val_accuracy: 0.6364\n",
            "Epoch 50/100\n",
            "16/16 - 0s - loss: 0.8341 - accuracy: 0.6804 - val_loss: 0.8569 - val_accuracy: 0.6494\n",
            "Epoch 51/100\n",
            "16/16 - 0s - loss: 0.8503 - accuracy: 0.6826 - val_loss: 0.8449 - val_accuracy: 0.6494\n",
            "Epoch 52/100\n",
            "16/16 - 0s - loss: 0.8130 - accuracy: 0.6826 - val_loss: 0.8566 - val_accuracy: 0.6299\n",
            "Epoch 53/100\n",
            "16/16 - 0s - loss: 0.8309 - accuracy: 0.6630 - val_loss: 0.8486 - val_accuracy: 0.6169\n",
            "Epoch 54/100\n",
            "16/16 - 0s - loss: 0.8289 - accuracy: 0.6783 - val_loss: 0.8224 - val_accuracy: 0.6494\n",
            "Epoch 55/100\n",
            "16/16 - 0s - loss: 0.7986 - accuracy: 0.6870 - val_loss: 0.8166 - val_accuracy: 0.6364\n",
            "Epoch 56/100\n",
            "16/16 - 0s - loss: 0.7862 - accuracy: 0.6761 - val_loss: 0.7972 - val_accuracy: 0.6364\n",
            "Epoch 57/100\n",
            "16/16 - 0s - loss: 0.7778 - accuracy: 0.6783 - val_loss: 0.8013 - val_accuracy: 0.6364\n",
            "Epoch 58/100\n",
            "16/16 - 0s - loss: 0.7739 - accuracy: 0.6848 - val_loss: 0.7926 - val_accuracy: 0.6364\n",
            "Epoch 59/100\n",
            "16/16 - 0s - loss: 0.7567 - accuracy: 0.6717 - val_loss: 0.7967 - val_accuracy: 0.6429\n",
            "Epoch 60/100\n",
            "16/16 - 0s - loss: 0.7564 - accuracy: 0.6913 - val_loss: 0.7746 - val_accuracy: 0.6494\n",
            "Epoch 61/100\n",
            "16/16 - 0s - loss: 0.7521 - accuracy: 0.6826 - val_loss: 0.7759 - val_accuracy: 0.6494\n",
            "Epoch 62/100\n",
            "16/16 - 0s - loss: 0.7318 - accuracy: 0.6783 - val_loss: 0.7778 - val_accuracy: 0.6299\n",
            "Epoch 63/100\n",
            "16/16 - 0s - loss: 0.7236 - accuracy: 0.6891 - val_loss: 0.7609 - val_accuracy: 0.6494\n",
            "Epoch 64/100\n",
            "16/16 - 0s - loss: 0.7472 - accuracy: 0.6609 - val_loss: 0.7626 - val_accuracy: 0.6169\n",
            "Epoch 65/100\n",
            "16/16 - 0s - loss: 0.7553 - accuracy: 0.6826 - val_loss: 0.7629 - val_accuracy: 0.6234\n",
            "Epoch 66/100\n",
            "16/16 - 0s - loss: 0.7233 - accuracy: 0.6891 - val_loss: 0.7668 - val_accuracy: 0.6104\n",
            "Epoch 67/100\n",
            "16/16 - 0s - loss: 0.7460 - accuracy: 0.6630 - val_loss: 0.7419 - val_accuracy: 0.6818\n",
            "Epoch 68/100\n",
            "16/16 - 0s - loss: 0.7216 - accuracy: 0.6761 - val_loss: 0.7532 - val_accuracy: 0.6494\n",
            "Epoch 69/100\n",
            "16/16 - 0s - loss: 0.7176 - accuracy: 0.6783 - val_loss: 0.7530 - val_accuracy: 0.6429\n",
            "Epoch 70/100\n",
            "16/16 - 0s - loss: 0.7450 - accuracy: 0.7000 - val_loss: 0.7419 - val_accuracy: 0.6429\n",
            "Epoch 71/100\n",
            "16/16 - 0s - loss: 0.7145 - accuracy: 0.6848 - val_loss: 0.7477 - val_accuracy: 0.6494\n",
            "Epoch 72/100\n",
            "16/16 - 0s - loss: 0.6998 - accuracy: 0.7022 - val_loss: 0.7392 - val_accuracy: 0.6364\n",
            "Epoch 73/100\n",
            "16/16 - 0s - loss: 0.6891 - accuracy: 0.6935 - val_loss: 0.7270 - val_accuracy: 0.6364\n",
            "Epoch 74/100\n",
            "16/16 - 0s - loss: 0.6867 - accuracy: 0.6935 - val_loss: 0.7239 - val_accuracy: 0.6688\n",
            "Epoch 75/100\n",
            "16/16 - 0s - loss: 0.6833 - accuracy: 0.6891 - val_loss: 0.7321 - val_accuracy: 0.6494\n",
            "Epoch 76/100\n",
            "16/16 - 0s - loss: 0.6837 - accuracy: 0.7000 - val_loss: 0.7354 - val_accuracy: 0.6039\n",
            "Epoch 77/100\n",
            "16/16 - 0s - loss: 0.6871 - accuracy: 0.6957 - val_loss: 0.7165 - val_accuracy: 0.6429\n",
            "Epoch 78/100\n",
            "16/16 - 0s - loss: 0.6732 - accuracy: 0.6957 - val_loss: 0.7280 - val_accuracy: 0.6364\n",
            "Epoch 79/100\n",
            "16/16 - 0s - loss: 0.6696 - accuracy: 0.6978 - val_loss: 0.7136 - val_accuracy: 0.6494\n",
            "Epoch 80/100\n",
            "16/16 - 0s - loss: 0.6592 - accuracy: 0.7000 - val_loss: 0.7224 - val_accuracy: 0.6558\n",
            "Epoch 81/100\n",
            "16/16 - 0s - loss: 0.6609 - accuracy: 0.7000 - val_loss: 0.7212 - val_accuracy: 0.6039\n",
            "Epoch 82/100\n",
            "16/16 - 0s - loss: 0.6729 - accuracy: 0.7022 - val_loss: 0.7013 - val_accuracy: 0.6364\n",
            "Epoch 83/100\n",
            "16/16 - 0s - loss: 0.6623 - accuracy: 0.7043 - val_loss: 0.7252 - val_accuracy: 0.6039\n",
            "Epoch 84/100\n",
            "16/16 - 0s - loss: 0.6516 - accuracy: 0.6978 - val_loss: 0.6999 - val_accuracy: 0.6948\n",
            "Epoch 85/100\n",
            "16/16 - 0s - loss: 0.6557 - accuracy: 0.7087 - val_loss: 0.7187 - val_accuracy: 0.6234\n",
            "Epoch 86/100\n",
            "16/16 - 0s - loss: 0.6480 - accuracy: 0.7087 - val_loss: 0.7170 - val_accuracy: 0.6234\n",
            "Epoch 87/100\n",
            "16/16 - 0s - loss: 0.6735 - accuracy: 0.6761 - val_loss: 0.7307 - val_accuracy: 0.6494\n",
            "Epoch 88/100\n",
            "16/16 - 0s - loss: 0.6612 - accuracy: 0.6957 - val_loss: 0.7003 - val_accuracy: 0.6234\n",
            "Epoch 89/100\n",
            "16/16 - 0s - loss: 0.6608 - accuracy: 0.6891 - val_loss: 0.6929 - val_accuracy: 0.6364\n",
            "Epoch 90/100\n",
            "16/16 - 0s - loss: 0.6469 - accuracy: 0.6957 - val_loss: 0.6903 - val_accuracy: 0.6364\n",
            "Epoch 91/100\n",
            "16/16 - 0s - loss: 0.6531 - accuracy: 0.6978 - val_loss: 0.7118 - val_accuracy: 0.6299\n",
            "Epoch 92/100\n",
            "16/16 - 0s - loss: 0.6364 - accuracy: 0.6978 - val_loss: 0.7098 - val_accuracy: 0.6169\n",
            "Epoch 93/100\n",
            "16/16 - 0s - loss: 0.6378 - accuracy: 0.6870 - val_loss: 0.7040 - val_accuracy: 0.6558\n",
            "Epoch 94/100\n",
            "16/16 - 0s - loss: 0.6451 - accuracy: 0.7130 - val_loss: 0.6933 - val_accuracy: 0.6623\n",
            "Epoch 95/100\n",
            "16/16 - 0s - loss: 0.6403 - accuracy: 0.6978 - val_loss: 0.6832 - val_accuracy: 0.6558\n",
            "Epoch 96/100\n",
            "16/16 - 0s - loss: 0.6290 - accuracy: 0.7370 - val_loss: 0.6694 - val_accuracy: 0.6883\n",
            "Epoch 97/100\n",
            "16/16 - 0s - loss: 0.6299 - accuracy: 0.7239 - val_loss: 0.6635 - val_accuracy: 0.6688\n",
            "Epoch 98/100\n",
            "16/16 - 0s - loss: 0.6190 - accuracy: 0.7413 - val_loss: 0.6667 - val_accuracy: 0.6688\n",
            "Epoch 99/100\n",
            "16/16 - 0s - loss: 0.6180 - accuracy: 0.7348 - val_loss: 0.6614 - val_accuracy: 0.6948\n",
            "Epoch 100/100\n",
            "16/16 - 0s - loss: 0.6290 - accuracy: 0.7217 - val_loss: 0.6601 - val_accuracy: 0.6948\n"
          ]
        }
      ]
    },
    {
      "cell_type": "code",
      "metadata": {
        "id": "Co1cDLghqETU",
        "colab": {
          "base_uri": "https://localhost:8080/",
          "height": 295
        },
        "outputId": "87604767-69f3-4ec4-fc4a-67db3ecc1226"
      },
      "source": [
        "plt.plot(history.history['accuracy'])\n",
        "plt.plot(history.history['val_accuracy'])\n",
        "plt.title('Model Accuracy')\n",
        "plt.ylabel('accuracy')\n",
        "plt.xlabel('epoch')\n",
        "plt.legend(['Train', 'Validation'])\n",
        "plt.show()"
      ],
      "execution_count": 24,
      "outputs": [
        {
          "output_type": "display_data",
          "data": {
            "image/png": "[encoded data removed]",
            "text/plain": [
              "<Figure size 432x288 with 1 Axes>"
            ]
          },
          "metadata": {
            "needs_background": "light"
          }
        }
      ]
    },
    {
      "cell_type": "code",
      "metadata": {
        "id": "L2HWQXWdqE8O",
        "colab": {
          "base_uri": "https://localhost:8080/",
          "height": 295
        },
        "outputId": "c8a441cd-454b-4382-8fb2-fe934fb9831a"
      },
      "source": [
        "# Model Loss\n",
        "plt.plot(history.history['loss'])\n",
        "plt.plot(history.history['val_loss'])\n",
        "plt.title('Model Loss')\n",
        "plt.ylabel('loss')\n",
        "plt.xlabel('epoch')\n",
        "plt.legend(['Train', 'Validation'])\n",
        "plt.show()"
      ],
      "execution_count": 25,
      "outputs": [
        {
          "output_type": "display_data",
          "data": {
            "image/png": "[encoded data removed]",
            "text/plain": [
              "<Figure size 432x288 with 1 Axes>"
            ]
          },
          "metadata": {
            "needs_background": "light"
          }
        }
      ]
    },
    {
      "cell_type": "code",
      "metadata": {
        "id": "MNKUFppFqI5T",
        "colab": {
          "base_uri": "https://localhost:8080/"
        },
        "outputId": "1a854c29-aa35-4adf-fd23-c06b163254f5"
      },
      "source": [
        "print(\"Accuracy is:\",history.history['accuracy'][-1]*100, \"%\" )"
      ],
      "execution_count": 26,
      "outputs": [
        {
          "output_type": "stream",
          "name": "stdout",
          "text": [
            "Accuracy is: 72.1739113330841 %\n"
          ]
        }
      ]
    },
    {
      "cell_type": "code",
      "metadata": {
        "id": "G3Ie-FMPMFxc"
      },
      "source": [
        "# Part 3"
      ],
      "execution_count": 27,
      "outputs": []
    },
    {
      "cell_type": "code",
      "metadata": {
        "id": "IF-V4-esN_5F"
      },
      "source": [
        "# Model with More Parametres\n"
      ],
      "execution_count": 28,
      "outputs": []
    },
    {
      "cell_type": "code",
      "metadata": {
        "id": "1aosPoDyLqKX"
      },
      "source": [
        "# Model with l2 & Dropout\n",
        "\n",
        "model1 = Sequential()\n",
        "\n",
        "# Input Layer\n",
        "model1.add(Dense(64, input_dim=8, activation='relu'))\n",
        "\n",
        "# Hidden Layers\n",
        "model1.add(Dense(128, activation='relu', kernel_regularizer=regularizers.l2(0.01)))\n",
        "model1.add(Dropout(0.25))\n",
        "model1.add(Dense(10, activation='relu'))\n",
        "\n",
        "# Output Layer\n",
        "model1.add(Dense(1, activation='sigmoid' ))"
      ],
      "execution_count": 29,
      "outputs": []
    },
    {
      "cell_type": "code",
      "metadata": {
        "id": "uIGnPfPBOoe4"
      },
      "source": [
        "# Compile Function\n",
        "model1.compile(optimizer=Adam(learning_rate=0.001), loss='binary_crossentropy',  metrics=['accuracy'])"
      ],
      "execution_count": 30,
      "outputs": []
    },
    {
      "cell_type": "code",
      "metadata": {
        "id": "_tBXtRsEOvRv",
        "colab": {
          "base_uri": "https://localhost:8080/"
        },
        "outputId": "b7e9e40f-c3e1-4d1e-8602-e46c23c0bf32"
      },
      "source": [
        "# Fit Function\n",
        "history1 = model1.fit(X_train.T,\n",
        "                    Y_train.T,\n",
        "                    epochs=100, batch_size=30,\n",
        "                    validation_data=(X_test.T, Y_test.T),\n",
        "                    verbose=2)"
      ],
      "execution_count": 31,
      "outputs": [
        {
          "output_type": "stream",
          "name": "stdout",
          "text": [
            "Epoch 1/100\n",
            "16/16 - 1s - loss: 3.5388 - accuracy: 0.4543 - val_loss: 1.6554 - val_accuracy: 0.6429\n",
            "Epoch 2/100\n",
            "16/16 - 0s - loss: 1.8447 - accuracy: 0.6043 - val_loss: 1.3440 - val_accuracy: 0.6883\n",
            "Epoch 3/100\n",
            "16/16 - 0s - loss: 1.3449 - accuracy: 0.6283 - val_loss: 1.2725 - val_accuracy: 0.6883\n",
            "Epoch 4/100\n",
            "16/16 - 0s - loss: 1.2647 - accuracy: 0.6326 - val_loss: 1.2121 - val_accuracy: 0.6883\n",
            "Epoch 5/100\n",
            "16/16 - 0s - loss: 1.1853 - accuracy: 0.6326 - val_loss: 1.1653 - val_accuracy: 0.6883\n",
            "Epoch 6/100\n",
            "16/16 - 0s - loss: 1.1845 - accuracy: 0.6370 - val_loss: 1.1255 - val_accuracy: 0.6883\n",
            "Epoch 7/100\n",
            "16/16 - 0s - loss: 1.1625 - accuracy: 0.6370 - val_loss: 1.0988 - val_accuracy: 0.6883\n",
            "Epoch 8/100\n",
            "16/16 - 0s - loss: 1.1096 - accuracy: 0.6370 - val_loss: 1.0661 - val_accuracy: 0.6883\n",
            "Epoch 9/100\n",
            "16/16 - 0s - loss: 1.0946 - accuracy: 0.6348 - val_loss: 1.0467 - val_accuracy: 0.6883\n",
            "Epoch 10/100\n",
            "16/16 - 0s - loss: 1.0557 - accuracy: 0.6348 - val_loss: 1.0290 - val_accuracy: 0.6883\n",
            "Epoch 11/100\n",
            "16/16 - 0s - loss: 1.0572 - accuracy: 0.6370 - val_loss: 1.0174 - val_accuracy: 0.6883\n",
            "Epoch 12/100\n",
            "16/16 - 0s - loss: 1.0427 - accuracy: 0.6413 - val_loss: 1.0154 - val_accuracy: 0.6883\n",
            "Epoch 13/100\n",
            "16/16 - 0s - loss: 1.0313 - accuracy: 0.6348 - val_loss: 0.9850 - val_accuracy: 0.6883\n",
            "Epoch 14/100\n",
            "16/16 - 0s - loss: 1.0170 - accuracy: 0.6370 - val_loss: 0.9712 - val_accuracy: 0.6883\n",
            "Epoch 15/100\n",
            "16/16 - 0s - loss: 1.0031 - accuracy: 0.6348 - val_loss: 0.9720 - val_accuracy: 0.6883\n",
            "Epoch 16/100\n",
            "16/16 - 0s - loss: 0.9804 - accuracy: 0.6370 - val_loss: 0.9430 - val_accuracy: 0.6883\n",
            "Epoch 17/100\n",
            "16/16 - 0s - loss: 0.9694 - accuracy: 0.6348 - val_loss: 0.9319 - val_accuracy: 0.6883\n",
            "Epoch 18/100\n",
            "16/16 - 0s - loss: 0.9625 - accuracy: 0.6370 - val_loss: 0.9267 - val_accuracy: 0.6883\n",
            "Epoch 19/100\n",
            "16/16 - 0s - loss: 0.9633 - accuracy: 0.6348 - val_loss: 0.9154 - val_accuracy: 0.6883\n",
            "Epoch 20/100\n",
            "16/16 - 0s - loss: 0.9588 - accuracy: 0.6370 - val_loss: 0.9240 - val_accuracy: 0.6883\n",
            "Epoch 21/100\n",
            "16/16 - 0s - loss: 0.9397 - accuracy: 0.6370 - val_loss: 0.8982 - val_accuracy: 0.6883\n",
            "Epoch 22/100\n",
            "16/16 - 0s - loss: 0.9344 - accuracy: 0.6370 - val_loss: 0.8968 - val_accuracy: 0.6883\n",
            "Epoch 23/100\n",
            "16/16 - 0s - loss: 0.9427 - accuracy: 0.6370 - val_loss: 0.9008 - val_accuracy: 0.6883\n",
            "Epoch 24/100\n",
            "16/16 - 0s - loss: 0.9344 - accuracy: 0.6370 - val_loss: 0.8872 - val_accuracy: 0.6883\n",
            "Epoch 25/100\n",
            "16/16 - 0s - loss: 0.9167 - accuracy: 0.6370 - val_loss: 0.8809 - val_accuracy: 0.6883\n",
            "Epoch 26/100\n",
            "16/16 - 0s - loss: 0.9167 - accuracy: 0.6370 - val_loss: 0.8743 - val_accuracy: 0.6883\n",
            "Epoch 27/100\n",
            "16/16 - 0s - loss: 0.9271 - accuracy: 0.6370 - val_loss: 0.8715 - val_accuracy: 0.6883\n",
            "Epoch 28/100\n",
            "16/16 - 0s - loss: 0.9103 - accuracy: 0.6370 - val_loss: 0.8623 - val_accuracy: 0.6883\n",
            "Epoch 29/100\n",
            "16/16 - 0s - loss: 0.9023 - accuracy: 0.6391 - val_loss: 0.8572 - val_accuracy: 0.6883\n",
            "Epoch 30/100\n",
            "16/16 - 0s - loss: 0.9039 - accuracy: 0.6348 - val_loss: 0.8566 - val_accuracy: 0.6883\n",
            "Epoch 31/100\n",
            "16/16 - 0s - loss: 0.8900 - accuracy: 0.6348 - val_loss: 0.8673 - val_accuracy: 0.6883\n",
            "Epoch 32/100\n",
            "16/16 - 0s - loss: 0.8860 - accuracy: 0.6370 - val_loss: 0.8476 - val_accuracy: 0.6883\n",
            "Epoch 33/100\n",
            "16/16 - 0s - loss: 0.8863 - accuracy: 0.6370 - val_loss: 0.8446 - val_accuracy: 0.6883\n",
            "Epoch 34/100\n",
            "16/16 - 0s - loss: 0.8793 - accuracy: 0.6413 - val_loss: 0.8372 - val_accuracy: 0.6883\n",
            "Epoch 35/100\n",
            "16/16 - 0s - loss: 0.8655 - accuracy: 0.6370 - val_loss: 0.8348 - val_accuracy: 0.6883\n",
            "Epoch 36/100\n",
            "16/16 - 0s - loss: 0.8616 - accuracy: 0.6391 - val_loss: 0.8331 - val_accuracy: 0.6883\n",
            "Epoch 37/100\n",
            "16/16 - 0s - loss: 0.8708 - accuracy: 0.6370 - val_loss: 0.8267 - val_accuracy: 0.6883\n",
            "Epoch 38/100\n",
            "16/16 - 0s - loss: 0.8594 - accuracy: 0.6326 - val_loss: 0.8279 - val_accuracy: 0.6883\n",
            "Epoch 39/100\n",
            "16/16 - 0s - loss: 0.8580 - accuracy: 0.6348 - val_loss: 0.8252 - val_accuracy: 0.6883\n",
            "Epoch 40/100\n",
            "16/16 - 0s - loss: 0.8420 - accuracy: 0.6457 - val_loss: 0.8234 - val_accuracy: 0.6883\n",
            "Epoch 41/100\n",
            "16/16 - 0s - loss: 0.8593 - accuracy: 0.6326 - val_loss: 0.8172 - val_accuracy: 0.6883\n",
            "Epoch 42/100\n",
            "16/16 - 0s - loss: 0.8339 - accuracy: 0.6370 - val_loss: 0.8193 - val_accuracy: 0.6883\n",
            "Epoch 43/100\n",
            "16/16 - 0s - loss: 0.8426 - accuracy: 0.6348 - val_loss: 0.8087 - val_accuracy: 0.6883\n",
            "Epoch 44/100\n",
            "16/16 - 0s - loss: 0.8207 - accuracy: 0.6370 - val_loss: 0.8044 - val_accuracy: 0.6883\n",
            "Epoch 45/100\n",
            "16/16 - 0s - loss: 0.8230 - accuracy: 0.6370 - val_loss: 0.8015 - val_accuracy: 0.6883\n",
            "Epoch 46/100\n",
            "16/16 - 0s - loss: 0.8283 - accuracy: 0.6370 - val_loss: 0.7984 - val_accuracy: 0.6883\n",
            "Epoch 47/100\n",
            "16/16 - 0s - loss: 0.8180 - accuracy: 0.6370 - val_loss: 0.7948 - val_accuracy: 0.6883\n",
            "Epoch 48/100\n",
            "16/16 - 0s - loss: 0.8211 - accuracy: 0.6348 - val_loss: 0.7972 - val_accuracy: 0.6883\n",
            "Epoch 49/100\n",
            "16/16 - 0s - loss: 0.8159 - accuracy: 0.6435 - val_loss: 0.7928 - val_accuracy: 0.6883\n",
            "Epoch 50/100\n",
            "16/16 - 0s - loss: 0.8068 - accuracy: 0.6348 - val_loss: 0.7934 - val_accuracy: 0.6883\n",
            "Epoch 51/100\n",
            "16/16 - 0s - loss: 0.7935 - accuracy: 0.6391 - val_loss: 0.7832 - val_accuracy: 0.6883\n",
            "Epoch 52/100\n",
            "16/16 - 0s - loss: 0.7944 - accuracy: 0.6326 - val_loss: 0.7811 - val_accuracy: 0.6883\n",
            "Epoch 53/100\n",
            "16/16 - 0s - loss: 0.7948 - accuracy: 0.6435 - val_loss: 0.7832 - val_accuracy: 0.6883\n",
            "Epoch 54/100\n",
            "16/16 - 0s - loss: 0.7820 - accuracy: 0.6391 - val_loss: 0.7826 - val_accuracy: 0.6883\n",
            "Epoch 55/100\n",
            "16/16 - 0s - loss: 0.8020 - accuracy: 0.6413 - val_loss: 0.7797 - val_accuracy: 0.6883\n",
            "Epoch 56/100\n",
            "16/16 - 0s - loss: 0.7848 - accuracy: 0.6391 - val_loss: 0.7794 - val_accuracy: 0.6883\n",
            "Epoch 57/100\n",
            "16/16 - 0s - loss: 0.7798 - accuracy: 0.6413 - val_loss: 0.7802 - val_accuracy: 0.6883\n",
            "Epoch 58/100\n",
            "16/16 - 0s - loss: 0.7736 - accuracy: 0.6370 - val_loss: 0.7740 - val_accuracy: 0.6883\n",
            "Epoch 59/100\n",
            "16/16 - 0s - loss: 0.7764 - accuracy: 0.6478 - val_loss: 0.7747 - val_accuracy: 0.6818\n",
            "Epoch 60/100\n",
            "16/16 - 0s - loss: 0.7677 - accuracy: 0.6348 - val_loss: 0.7738 - val_accuracy: 0.6883\n",
            "Epoch 61/100\n",
            "16/16 - 0s - loss: 0.7726 - accuracy: 0.6565 - val_loss: 0.7710 - val_accuracy: 0.6883\n",
            "Epoch 62/100\n",
            "16/16 - 0s - loss: 0.7640 - accuracy: 0.6565 - val_loss: 0.7697 - val_accuracy: 0.6883\n",
            "Epoch 63/100\n",
            "16/16 - 0s - loss: 0.7416 - accuracy: 0.6630 - val_loss: 0.7617 - val_accuracy: 0.7013\n",
            "Epoch 64/100\n",
            "16/16 - 0s - loss: 0.7549 - accuracy: 0.6457 - val_loss: 0.7609 - val_accuracy: 0.6883\n",
            "Epoch 65/100\n",
            "16/16 - 0s - loss: 0.7536 - accuracy: 0.6435 - val_loss: 0.7683 - val_accuracy: 0.6883\n",
            "Epoch 66/100\n",
            "16/16 - 0s - loss: 0.7592 - accuracy: 0.6413 - val_loss: 0.7542 - val_accuracy: 0.6883\n",
            "Epoch 67/100\n",
            "16/16 - 0s - loss: 0.7352 - accuracy: 0.6457 - val_loss: 0.7585 - val_accuracy: 0.6883\n",
            "Epoch 68/100\n",
            "16/16 - 0s - loss: 0.7436 - accuracy: 0.6500 - val_loss: 0.7527 - val_accuracy: 0.6948\n",
            "Epoch 69/100\n",
            "16/16 - 0s - loss: 0.7417 - accuracy: 0.6522 - val_loss: 0.7529 - val_accuracy: 0.7013\n",
            "Epoch 70/100\n",
            "16/16 - 0s - loss: 0.7391 - accuracy: 0.6457 - val_loss: 0.7539 - val_accuracy: 0.6883\n",
            "Epoch 71/100\n",
            "16/16 - 0s - loss: 0.7355 - accuracy: 0.6522 - val_loss: 0.7519 - val_accuracy: 0.6753\n",
            "Epoch 72/100\n",
            "16/16 - 0s - loss: 0.7315 - accuracy: 0.6761 - val_loss: 0.7474 - val_accuracy: 0.6753\n",
            "Epoch 73/100\n",
            "16/16 - 0s - loss: 0.7174 - accuracy: 0.6652 - val_loss: 0.7500 - val_accuracy: 0.6623\n",
            "Epoch 74/100\n",
            "16/16 - 0s - loss: 0.7372 - accuracy: 0.6804 - val_loss: 0.7740 - val_accuracy: 0.6558\n",
            "Epoch 75/100\n",
            "16/16 - 0s - loss: 0.7323 - accuracy: 0.6609 - val_loss: 0.7470 - val_accuracy: 0.6753\n",
            "Epoch 76/100\n",
            "16/16 - 0s - loss: 0.7174 - accuracy: 0.6761 - val_loss: 0.7587 - val_accuracy: 0.6429\n",
            "Epoch 77/100\n",
            "16/16 - 0s - loss: 0.7150 - accuracy: 0.6739 - val_loss: 0.7385 - val_accuracy: 0.6623\n",
            "Epoch 78/100\n",
            "16/16 - 0s - loss: 0.7148 - accuracy: 0.6609 - val_loss: 0.7463 - val_accuracy: 0.6818\n",
            "Epoch 79/100\n",
            "16/16 - 0s - loss: 0.7196 - accuracy: 0.6674 - val_loss: 0.7353 - val_accuracy: 0.6948\n",
            "Epoch 80/100\n",
            "16/16 - 0s - loss: 0.7121 - accuracy: 0.6478 - val_loss: 0.7356 - val_accuracy: 0.6883\n",
            "Epoch 81/100\n",
            "16/16 - 0s - loss: 0.7221 - accuracy: 0.6500 - val_loss: 0.7291 - val_accuracy: 0.7013\n",
            "Epoch 82/100\n",
            "16/16 - 0s - loss: 0.7159 - accuracy: 0.6609 - val_loss: 0.7391 - val_accuracy: 0.6688\n",
            "Epoch 83/100\n",
            "16/16 - 0s - loss: 0.7385 - accuracy: 0.6391 - val_loss: 0.7394 - val_accuracy: 0.6883\n",
            "Epoch 84/100\n",
            "16/16 - 0s - loss: 0.7388 - accuracy: 0.6696 - val_loss: 0.7280 - val_accuracy: 0.6818\n",
            "Epoch 85/100\n",
            "16/16 - 0s - loss: 0.7082 - accuracy: 0.6565 - val_loss: 0.7289 - val_accuracy: 0.6688\n",
            "Epoch 86/100\n",
            "16/16 - 0s - loss: 0.7015 - accuracy: 0.6783 - val_loss: 0.7271 - val_accuracy: 0.6558\n",
            "Epoch 87/100\n",
            "16/16 - 0s - loss: 0.6928 - accuracy: 0.6804 - val_loss: 0.7279 - val_accuracy: 0.6494\n",
            "Epoch 88/100\n",
            "16/16 - 0s - loss: 0.6982 - accuracy: 0.6674 - val_loss: 0.7196 - val_accuracy: 0.6883\n",
            "Epoch 89/100\n",
            "16/16 - 0s - loss: 0.6766 - accuracy: 0.6935 - val_loss: 0.7657 - val_accuracy: 0.6494\n",
            "Epoch 90/100\n",
            "16/16 - 0s - loss: 0.6867 - accuracy: 0.6739 - val_loss: 0.7187 - val_accuracy: 0.6883\n",
            "Epoch 91/100\n",
            "16/16 - 0s - loss: 0.6918 - accuracy: 0.6696 - val_loss: 0.7277 - val_accuracy: 0.6688\n",
            "Epoch 92/100\n",
            "16/16 - 0s - loss: 0.6696 - accuracy: 0.6913 - val_loss: 0.7211 - val_accuracy: 0.6753\n",
            "Epoch 93/100\n",
            "16/16 - 0s - loss: 0.6714 - accuracy: 0.6913 - val_loss: 0.7328 - val_accuracy: 0.6558\n",
            "Epoch 94/100\n",
            "16/16 - 0s - loss: 0.6827 - accuracy: 0.6783 - val_loss: 0.7133 - val_accuracy: 0.6883\n",
            "Epoch 95/100\n",
            "16/16 - 0s - loss: 0.6734 - accuracy: 0.6717 - val_loss: 0.7130 - val_accuracy: 0.6753\n",
            "Epoch 96/100\n",
            "16/16 - 0s - loss: 0.6744 - accuracy: 0.6761 - val_loss: 0.7166 - val_accuracy: 0.6623\n",
            "Epoch 97/100\n",
            "16/16 - 0s - loss: 0.6783 - accuracy: 0.6870 - val_loss: 0.7064 - val_accuracy: 0.6948\n",
            "Epoch 98/100\n",
            "16/16 - 0s - loss: 0.6718 - accuracy: 0.6913 - val_loss: 0.7146 - val_accuracy: 0.6623\n",
            "Epoch 99/100\n",
            "16/16 - 0s - loss: 0.6816 - accuracy: 0.6674 - val_loss: 0.6992 - val_accuracy: 0.7078\n",
            "Epoch 100/100\n",
            "16/16 - 0s - loss: 0.6715 - accuracy: 0.6783 - val_loss: 0.7116 - val_accuracy: 0.6558\n"
          ]
        }
      ]
    },
    {
      "cell_type": "code",
      "metadata": {
        "id": "QDIv8YQ6O6IU",
        "colab": {
          "base_uri": "https://localhost:8080/",
          "height": 295
        },
        "outputId": "6d265355-e81c-441a-cdab-eba6e243154f"
      },
      "source": [
        "plt.plot(history.history['accuracy'])\n",
        "plt.plot(history.history['val_accuracy'])\n",
        "plt.title('Model Accuracy for l2 & Dropout ')\n",
        "plt.ylabel('accuracy')\n",
        "plt.xlabel('epoch')\n",
        "plt.legend(['Train', 'Validation'])\n",
        "plt.show()"
      ],
      "execution_count": 32,
      "outputs": [
        {
          "output_type": "display_data",
          "data": {
            "image/png": "[encoded data removed]",
            "text/plain": [
              "<Figure size 432x288 with 1 Axes>"
            ]
          },
          "metadata": {
            "needs_background": "light"
          }
        }
      ]
    },
    {
      "cell_type": "code",
      "metadata": {
        "id": "0XuvOAcbO94n",
        "colab": {
          "base_uri": "https://localhost:8080/",
          "height": 295
        },
        "outputId": "7dacc962-8207-4d7f-f74a-5f376c945271"
      },
      "source": [
        "# Model Loss\n",
        "plt.plot(history1.history['loss'])\n",
        "plt.plot(history1.history['val_loss'])\n",
        "plt.title('Model Loss for l2 & Dropout ')\n",
        "plt.ylabel('loss')\n",
        "plt.xlabel('epoch')\n",
        "plt.legend(['Train', 'Validation'])\n",
        "plt.show()"
      ],
      "execution_count": 33,
      "outputs": [
        {
          "output_type": "display_data",
          "data": {
            "image/png": "[encoded data removed]",
            "text/plain": [
              "<Figure size 432x288 with 1 Axes>"
            ]
          },
          "metadata": {
            "needs_background": "light"
          }
        }
      ]
    },
    {
      "cell_type": "code",
      "metadata": {
        "id": "iFMSIuVBPUIy",
        "colab": {
          "base_uri": "https://localhost:8080/"
        },
        "outputId": "8ce90cb1-3b47-4fd9-abe1-e34522331ece"
      },
      "source": [
        "print(\"Accuracy for l2 & Dropout is:\",history1.history['accuracy'][-1]*100, \"%\" )"
      ],
      "execution_count": 34,
      "outputs": [
        {
          "output_type": "stream",
          "name": "stdout",
          "text": [
            "Accuracy for l2 & Dropout is: 67.8260862827301 %\n"
          ]
        }
      ]
    },
    {
      "cell_type": "code",
      "metadata": {
        "id": "FZRvZ0h0N_Ri"
      },
      "source": [
        "# Model with l1 & Dropout\n",
        "\n",
        "model2 = Sequential()\n",
        "\n",
        "# Input Layer\n",
        "model2.add(Dense(64, input_dim=8, activation='relu'))\n",
        "\n",
        "# Hidden Layers\n",
        "model1.add(Dense(128, activation='relu', kernel_regularizer=regularizers.l1(0.01)))\n",
        "model2.add(Dropout(0.20))\n",
        "model2.add(Dense(10, activation='relu'))\n",
        "\n",
        "# Output Layer\n",
        "model2.add(Dense(1, activation='sigmoid' ))"
      ],
      "execution_count": 35,
      "outputs": []
    },
    {
      "cell_type": "code",
      "metadata": {
        "id": "h1-e2ceAOpsi"
      },
      "source": [
        "# Compile Function\n",
        "model2.compile(optimizer=Adam(learning_rate=0.001), loss='binary_crossentropy',  metrics=['accuracy'])"
      ],
      "execution_count": 36,
      "outputs": []
    },
    {
      "cell_type": "code",
      "metadata": {
        "id": "CwXMP-ClOxWF",
        "colab": {
          "base_uri": "https://localhost:8080/"
        },
        "outputId": "b0966e2d-1f54-418c-b43d-925f637e3781"
      },
      "source": [
        "# Fit Function\n",
        "history2 = model2.fit(X_train.T,\n",
        "                    Y_train.T,\n",
        "                    epochs=100, batch_size=30,\n",
        "                    validation_data=(X_test.T, Y_test.T),\n",
        "                    verbose=2)"
      ],
      "execution_count": 37,
      "outputs": [
        {
          "output_type": "stream",
          "name": "stdout",
          "text": [
            "Epoch 1/100\n",
            "16/16 - 1s - loss: 9.0385 - accuracy: 0.6130 - val_loss: 2.3438 - val_accuracy: 0.6104\n",
            "Epoch 2/100\n",
            "16/16 - 0s - loss: 3.8369 - accuracy: 0.5152 - val_loss: 1.3576 - val_accuracy: 0.6364\n",
            "Epoch 3/100\n",
            "16/16 - 0s - loss: 2.4344 - accuracy: 0.5630 - val_loss: 1.1629 - val_accuracy: 0.6883\n",
            "Epoch 4/100\n",
            "16/16 - 0s - loss: 2.3051 - accuracy: 0.5413 - val_loss: 0.9417 - val_accuracy: 0.6688\n",
            "Epoch 5/100\n",
            "16/16 - 0s - loss: 1.7859 - accuracy: 0.5696 - val_loss: 0.8283 - val_accuracy: 0.6818\n",
            "Epoch 6/100\n",
            "16/16 - 0s - loss: 1.4790 - accuracy: 0.5826 - val_loss: 0.8899 - val_accuracy: 0.6688\n",
            "Epoch 7/100\n",
            "16/16 - 0s - loss: 1.7153 - accuracy: 0.5696 - val_loss: 0.8848 - val_accuracy: 0.6494\n",
            "Epoch 8/100\n",
            "16/16 - 0s - loss: 1.5734 - accuracy: 0.5804 - val_loss: 0.8377 - val_accuracy: 0.6688\n",
            "Epoch 9/100\n",
            "16/16 - 0s - loss: 1.4916 - accuracy: 0.5674 - val_loss: 0.7864 - val_accuracy: 0.6753\n",
            "Epoch 10/100\n",
            "16/16 - 0s - loss: 1.4180 - accuracy: 0.5935 - val_loss: 0.7382 - val_accuracy: 0.6688\n",
            "Epoch 11/100\n",
            "16/16 - 0s - loss: 1.3217 - accuracy: 0.5739 - val_loss: 0.7221 - val_accuracy: 0.6623\n",
            "Epoch 12/100\n",
            "16/16 - 0s - loss: 1.2021 - accuracy: 0.5739 - val_loss: 0.7040 - val_accuracy: 0.6558\n",
            "Epoch 13/100\n",
            "16/16 - 0s - loss: 1.1152 - accuracy: 0.5652 - val_loss: 0.6939 - val_accuracy: 0.6104\n",
            "Epoch 14/100\n",
            "16/16 - 0s - loss: 1.0050 - accuracy: 0.6261 - val_loss: 0.7141 - val_accuracy: 0.5974\n",
            "Epoch 15/100\n",
            "16/16 - 0s - loss: 1.0112 - accuracy: 0.5783 - val_loss: 0.6508 - val_accuracy: 0.6104\n",
            "Epoch 16/100\n",
            "16/16 - 0s - loss: 0.9279 - accuracy: 0.5978 - val_loss: 0.6710 - val_accuracy: 0.6299\n",
            "Epoch 17/100\n",
            "16/16 - 0s - loss: 0.9850 - accuracy: 0.6043 - val_loss: 0.6707 - val_accuracy: 0.6364\n",
            "Epoch 18/100\n",
            "16/16 - 0s - loss: 0.8912 - accuracy: 0.5804 - val_loss: 0.6288 - val_accuracy: 0.6169\n",
            "Epoch 19/100\n",
            "16/16 - 0s - loss: 0.9309 - accuracy: 0.6022 - val_loss: 0.6816 - val_accuracy: 0.6039\n",
            "Epoch 20/100\n",
            "16/16 - 0s - loss: 0.8502 - accuracy: 0.6304 - val_loss: 0.6321 - val_accuracy: 0.6234\n",
            "Epoch 21/100\n",
            "16/16 - 0s - loss: 0.8331 - accuracy: 0.6239 - val_loss: 0.6539 - val_accuracy: 0.6364\n",
            "Epoch 22/100\n",
            "16/16 - 0s - loss: 0.8204 - accuracy: 0.6413 - val_loss: 0.6144 - val_accuracy: 0.6494\n",
            "Epoch 23/100\n",
            "16/16 - 0s - loss: 0.8230 - accuracy: 0.6239 - val_loss: 0.6198 - val_accuracy: 0.6494\n",
            "Epoch 24/100\n",
            "16/16 - 0s - loss: 0.8011 - accuracy: 0.6543 - val_loss: 0.6165 - val_accuracy: 0.6558\n",
            "Epoch 25/100\n",
            "16/16 - 0s - loss: 0.7486 - accuracy: 0.6587 - val_loss: 0.6124 - val_accuracy: 0.6494\n",
            "Epoch 26/100\n",
            "16/16 - 0s - loss: 0.8402 - accuracy: 0.6130 - val_loss: 0.6199 - val_accuracy: 0.6104\n",
            "Epoch 27/100\n",
            "16/16 - 0s - loss: 0.7880 - accuracy: 0.6174 - val_loss: 0.6172 - val_accuracy: 0.6104\n",
            "Epoch 28/100\n",
            "16/16 - 0s - loss: 0.6733 - accuracy: 0.6543 - val_loss: 0.6236 - val_accuracy: 0.6429\n",
            "Epoch 29/100\n",
            "16/16 - 0s - loss: 0.7456 - accuracy: 0.6109 - val_loss: 0.6064 - val_accuracy: 0.6688\n",
            "Epoch 30/100\n",
            "16/16 - 0s - loss: 0.6759 - accuracy: 0.6370 - val_loss: 0.6013 - val_accuracy: 0.6753\n",
            "Epoch 31/100\n",
            "16/16 - 0s - loss: 0.6695 - accuracy: 0.6696 - val_loss: 0.6121 - val_accuracy: 0.6494\n",
            "Epoch 32/100\n",
            "16/16 - 0s - loss: 0.6762 - accuracy: 0.6565 - val_loss: 0.6037 - val_accuracy: 0.6753\n",
            "Epoch 33/100\n",
            "16/16 - 0s - loss: 0.6858 - accuracy: 0.6261 - val_loss: 0.6055 - val_accuracy: 0.6623\n",
            "Epoch 34/100\n",
            "16/16 - 0s - loss: 0.6560 - accuracy: 0.6630 - val_loss: 0.6149 - val_accuracy: 0.6558\n",
            "Epoch 35/100\n",
            "16/16 - 0s - loss: 0.6376 - accuracy: 0.6652 - val_loss: 0.6044 - val_accuracy: 0.6623\n",
            "Epoch 36/100\n",
            "16/16 - 0s - loss: 0.6481 - accuracy: 0.6783 - val_loss: 0.6147 - val_accuracy: 0.6623\n",
            "Epoch 37/100\n",
            "16/16 - 0s - loss: 0.6566 - accuracy: 0.6478 - val_loss: 0.6028 - val_accuracy: 0.6623\n",
            "Epoch 38/100\n",
            "16/16 - 0s - loss: 0.6658 - accuracy: 0.6565 - val_loss: 0.6062 - val_accuracy: 0.6753\n",
            "Epoch 39/100\n",
            "16/16 - 0s - loss: 0.6533 - accuracy: 0.6609 - val_loss: 0.6141 - val_accuracy: 0.6429\n",
            "Epoch 40/100\n",
            "16/16 - 0s - loss: 0.6514 - accuracy: 0.6413 - val_loss: 0.6031 - val_accuracy: 0.6753\n",
            "Epoch 41/100\n",
            "16/16 - 0s - loss: 0.6430 - accuracy: 0.6543 - val_loss: 0.6141 - val_accuracy: 0.6299\n",
            "Epoch 42/100\n",
            "16/16 - 0s - loss: 0.6400 - accuracy: 0.6717 - val_loss: 0.6204 - val_accuracy: 0.6169\n",
            "Epoch 43/100\n",
            "16/16 - 0s - loss: 0.6228 - accuracy: 0.6457 - val_loss: 0.6080 - val_accuracy: 0.6558\n",
            "Epoch 44/100\n",
            "16/16 - 0s - loss: 0.6564 - accuracy: 0.6630 - val_loss: 0.6221 - val_accuracy: 0.6299\n",
            "Epoch 45/100\n",
            "16/16 - 0s - loss: 0.6498 - accuracy: 0.6609 - val_loss: 0.6221 - val_accuracy: 0.6299\n",
            "Epoch 46/100\n",
            "16/16 - 0s - loss: 0.6204 - accuracy: 0.7022 - val_loss: 0.6094 - val_accuracy: 0.6494\n",
            "Epoch 47/100\n",
            "16/16 - 0s - loss: 0.6742 - accuracy: 0.6717 - val_loss: 0.6021 - val_accuracy: 0.6558\n",
            "Epoch 48/100\n",
            "16/16 - 0s - loss: 0.6099 - accuracy: 0.6696 - val_loss: 0.6152 - val_accuracy: 0.6494\n",
            "Epoch 49/100\n",
            "16/16 - 0s - loss: 0.6533 - accuracy: 0.6804 - val_loss: 0.6274 - val_accuracy: 0.6494\n",
            "Epoch 50/100\n",
            "16/16 - 0s - loss: 0.6167 - accuracy: 0.6848 - val_loss: 0.6210 - val_accuracy: 0.6494\n",
            "Epoch 51/100\n",
            "16/16 - 0s - loss: 0.6210 - accuracy: 0.6783 - val_loss: 0.6231 - val_accuracy: 0.6429\n",
            "Epoch 52/100\n",
            "16/16 - 0s - loss: 0.6232 - accuracy: 0.6761 - val_loss: 0.6363 - val_accuracy: 0.6169\n",
            "Epoch 53/100\n",
            "16/16 - 0s - loss: 0.6178 - accuracy: 0.6761 - val_loss: 0.6376 - val_accuracy: 0.6494\n",
            "Epoch 54/100\n",
            "16/16 - 0s - loss: 0.6220 - accuracy: 0.6870 - val_loss: 0.6275 - val_accuracy: 0.6234\n",
            "Epoch 55/100\n",
            "16/16 - 0s - loss: 0.6130 - accuracy: 0.6696 - val_loss: 0.6196 - val_accuracy: 0.6558\n",
            "Epoch 56/100\n",
            "16/16 - 0s - loss: 0.6268 - accuracy: 0.6978 - val_loss: 0.6266 - val_accuracy: 0.6299\n",
            "Epoch 57/100\n",
            "16/16 - 0s - loss: 0.6148 - accuracy: 0.6891 - val_loss: 0.6330 - val_accuracy: 0.6623\n",
            "Epoch 58/100\n",
            "16/16 - 0s - loss: 0.5977 - accuracy: 0.6957 - val_loss: 0.6132 - val_accuracy: 0.6558\n",
            "Epoch 59/100\n",
            "16/16 - 0s - loss: 0.5905 - accuracy: 0.7000 - val_loss: 0.6231 - val_accuracy: 0.6623\n",
            "Epoch 60/100\n",
            "16/16 - 0s - loss: 0.6023 - accuracy: 0.7022 - val_loss: 0.6088 - val_accuracy: 0.6558\n",
            "Epoch 61/100\n",
            "16/16 - 0s - loss: 0.6122 - accuracy: 0.6870 - val_loss: 0.6158 - val_accuracy: 0.6494\n",
            "Epoch 62/100\n",
            "16/16 - 0s - loss: 0.5710 - accuracy: 0.7152 - val_loss: 0.6466 - val_accuracy: 0.6753\n",
            "Epoch 63/100\n",
            "16/16 - 0s - loss: 0.5739 - accuracy: 0.7196 - val_loss: 0.6309 - val_accuracy: 0.6364\n",
            "Epoch 64/100\n",
            "16/16 - 0s - loss: 0.6023 - accuracy: 0.6804 - val_loss: 0.6328 - val_accuracy: 0.6234\n",
            "Epoch 65/100\n",
            "16/16 - 0s - loss: 0.6087 - accuracy: 0.6978 - val_loss: 0.6323 - val_accuracy: 0.6299\n",
            "Epoch 66/100\n",
            "16/16 - 0s - loss: 0.5748 - accuracy: 0.6978 - val_loss: 0.6296 - val_accuracy: 0.6429\n",
            "Epoch 67/100\n",
            "16/16 - 0s - loss: 0.5980 - accuracy: 0.6609 - val_loss: 0.6583 - val_accuracy: 0.6623\n",
            "Epoch 68/100\n",
            "16/16 - 0s - loss: 0.5665 - accuracy: 0.7152 - val_loss: 0.6296 - val_accuracy: 0.6688\n",
            "Epoch 69/100\n",
            "16/16 - 0s - loss: 0.5939 - accuracy: 0.7022 - val_loss: 0.6300 - val_accuracy: 0.6234\n",
            "Epoch 70/100\n",
            "16/16 - 0s - loss: 0.5866 - accuracy: 0.7065 - val_loss: 0.6607 - val_accuracy: 0.6299\n",
            "Epoch 71/100\n",
            "16/16 - 0s - loss: 0.5830 - accuracy: 0.7130 - val_loss: 0.6216 - val_accuracy: 0.6623\n",
            "Epoch 72/100\n",
            "16/16 - 0s - loss: 0.5687 - accuracy: 0.7239 - val_loss: 0.6275 - val_accuracy: 0.6688\n",
            "Epoch 73/100\n",
            "16/16 - 0s - loss: 0.6029 - accuracy: 0.6870 - val_loss: 0.6388 - val_accuracy: 0.6494\n",
            "Epoch 74/100\n",
            "16/16 - 0s - loss: 0.5820 - accuracy: 0.7022 - val_loss: 0.6414 - val_accuracy: 0.6558\n",
            "Epoch 75/100\n",
            "16/16 - 0s - loss: 0.5796 - accuracy: 0.7196 - val_loss: 0.6371 - val_accuracy: 0.6494\n",
            "Epoch 76/100\n",
            "16/16 - 0s - loss: 0.5819 - accuracy: 0.6913 - val_loss: 0.6341 - val_accuracy: 0.6494\n",
            "Epoch 77/100\n",
            "16/16 - 0s - loss: 0.5996 - accuracy: 0.6935 - val_loss: 0.6434 - val_accuracy: 0.6558\n",
            "Epoch 78/100\n",
            "16/16 - 0s - loss: 0.5706 - accuracy: 0.7283 - val_loss: 0.6345 - val_accuracy: 0.6558\n",
            "Epoch 79/100\n",
            "16/16 - 0s - loss: 0.5868 - accuracy: 0.7000 - val_loss: 0.6255 - val_accuracy: 0.6429\n",
            "Epoch 80/100\n",
            "16/16 - 0s - loss: 0.5851 - accuracy: 0.6826 - val_loss: 0.6401 - val_accuracy: 0.6558\n",
            "Epoch 81/100\n",
            "16/16 - 0s - loss: 0.5668 - accuracy: 0.7087 - val_loss: 0.6403 - val_accuracy: 0.6299\n",
            "Epoch 82/100\n",
            "16/16 - 0s - loss: 0.5656 - accuracy: 0.7152 - val_loss: 0.6503 - val_accuracy: 0.6299\n",
            "Epoch 83/100\n",
            "16/16 - 0s - loss: 0.5667 - accuracy: 0.7370 - val_loss: 0.6390 - val_accuracy: 0.6494\n",
            "Epoch 84/100\n",
            "16/16 - 0s - loss: 0.5742 - accuracy: 0.7174 - val_loss: 0.6533 - val_accuracy: 0.6558\n",
            "Epoch 85/100\n",
            "16/16 - 0s - loss: 0.5927 - accuracy: 0.7022 - val_loss: 0.6425 - val_accuracy: 0.6429\n",
            "Epoch 86/100\n",
            "16/16 - 0s - loss: 0.5686 - accuracy: 0.7109 - val_loss: 0.6513 - val_accuracy: 0.6883\n",
            "Epoch 87/100\n",
            "16/16 - 0s - loss: 0.5891 - accuracy: 0.6870 - val_loss: 0.6522 - val_accuracy: 0.6494\n",
            "Epoch 88/100\n",
            "16/16 - 0s - loss: 0.5876 - accuracy: 0.7109 - val_loss: 0.6393 - val_accuracy: 0.6429\n",
            "Epoch 89/100\n",
            "16/16 - 0s - loss: 0.5738 - accuracy: 0.7065 - val_loss: 0.6304 - val_accuracy: 0.6688\n",
            "Epoch 90/100\n",
            "16/16 - 0s - loss: 0.5867 - accuracy: 0.6913 - val_loss: 0.6386 - val_accuracy: 0.6753\n",
            "Epoch 91/100\n",
            "16/16 - 0s - loss: 0.5607 - accuracy: 0.7043 - val_loss: 0.6431 - val_accuracy: 0.6883\n",
            "Epoch 92/100\n",
            "16/16 - 0s - loss: 0.5599 - accuracy: 0.7261 - val_loss: 0.6363 - val_accuracy: 0.6623\n",
            "Epoch 93/100\n",
            "16/16 - 0s - loss: 0.5710 - accuracy: 0.6978 - val_loss: 0.6340 - val_accuracy: 0.6558\n",
            "Epoch 94/100\n",
            "16/16 - 0s - loss: 0.5477 - accuracy: 0.7348 - val_loss: 0.6342 - val_accuracy: 0.6688\n",
            "Epoch 95/100\n",
            "16/16 - 0s - loss: 0.5418 - accuracy: 0.7435 - val_loss: 0.6428 - val_accuracy: 0.6753\n",
            "Epoch 96/100\n",
            "16/16 - 0s - loss: 0.5459 - accuracy: 0.7196 - val_loss: 0.6354 - val_accuracy: 0.6948\n",
            "Epoch 97/100\n",
            "16/16 - 0s - loss: 0.5709 - accuracy: 0.7261 - val_loss: 0.6264 - val_accuracy: 0.6623\n",
            "Epoch 98/100\n",
            "16/16 - 0s - loss: 0.5721 - accuracy: 0.7261 - val_loss: 0.6223 - val_accuracy: 0.6558\n",
            "Epoch 99/100\n",
            "16/16 - 0s - loss: 0.5659 - accuracy: 0.7370 - val_loss: 0.6396 - val_accuracy: 0.7078\n",
            "Epoch 100/100\n",
            "16/16 - 0s - loss: 0.5676 - accuracy: 0.7478 - val_loss: 0.6266 - val_accuracy: 0.6753\n"
          ]
        }
      ]
    },
    {
      "cell_type": "code",
      "metadata": {
        "id": "HmbIVdhAO7Xl",
        "colab": {
          "base_uri": "https://localhost:8080/",
          "height": 295
        },
        "outputId": "8c1cd76e-a635-4d9c-e3eb-219efff7c844"
      },
      "source": [
        "plt.plot(history.history['accuracy'])\n",
        "plt.plot(history.history['val_accuracy'])\n",
        "plt.title('Model Accuracy for l1 & Dropout')\n",
        "plt.ylabel('accuracy')\n",
        "plt.xlabel('epoch')\n",
        "plt.legend(['Train', 'Validation'])\n",
        "plt.show()"
      ],
      "execution_count": 38,
      "outputs": [
        {
          "output_type": "display_data",
          "data": {
            "image/png": "[encoded data removed]",
            "text/plain": [
              "<Figure size 432x288 with 1 Axes>"
            ]
          },
          "metadata": {
            "needs_background": "light"
          }
        }
      ]
    },
    {
      "cell_type": "code",
      "metadata": {
        "id": "M-KNgCgLO8y6",
        "colab": {
          "base_uri": "https://localhost:8080/",
          "height": 295
        },
        "outputId": "16393f9e-14d1-40a2-d815-07ef2d3910e5"
      },
      "source": [
        "# Model Loss\n",
        "plt.plot(history2.history['loss'])\n",
        "plt.plot(history2.history['val_loss'])\n",
        "plt.title('Model Loss For l1 & Dropout')\n",
        "plt.ylabel('loss')\n",
        "plt.xlabel('epoch')\n",
        "plt.legend(['Train', 'Validation'])\n",
        "plt.show()"
      ],
      "execution_count": 39,
      "outputs": [
        {
          "output_type": "display_data",
          "data": {
            "image/png": "[encoded data removed]",
            "text/plain": [
              "<Figure size 432x288 with 1 Axes>"
            ]
          },
          "metadata": {
            "needs_background": "light"
          }
        }
      ]
    },
    {
      "cell_type": "code",
      "metadata": {
        "id": "or_0G8T2PRMQ",
        "colab": {
          "base_uri": "https://localhost:8080/"
        },
        "outputId": "ca689c29-883d-4857-ae60-5dfd6e2236a6"
      },
      "source": [
        "print(\"Accuracy for l1 & Dropout is:\",history2.history['accuracy'][-1]*100, \"%\" )"
      ],
      "execution_count": 40,
      "outputs": [
        {
          "output_type": "stream",
          "name": "stdout",
          "text": [
            "Accuracy for l1 & Dropout is: 74.7826099395752 %\n"
          ]
        }
      ]
    }
  ]
}