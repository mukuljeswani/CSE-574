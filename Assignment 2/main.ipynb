{
  "nbformat": 4,
  "nbformat_minor": 0,
  "metadata": {
    "colab": {
      "name": "main.ipynb",
      "provenance": [],
      "collapsed_sections": []
    },
    "kernelspec": {
      "name": "python3",
      "display_name": "Python 3"
    },
    "language_info": {
      "name": "python"
    },
    "accelerator": "GPU"
  },
  "cells": [
    {
      "cell_type": "code",
      "metadata": {
        "id": "hw3pjATSTHQI"
      },
      "source": [
        "# import libraries\n",
        "import cv2\n",
        "from keras.datasets import cifar10\n",
        "\n",
        "import numpy as np\n",
        "from sklearn.metrics import silhouette_score\n",
        "from scipy.spatial.distance import cdist\n",
        "import keras\n",
        "from keras import layers\n",
        "from sklearn.cluster import KMeans\n",
        "from sklearn.cluster import KMeans\n",
        "from keras.models import Model\n",
        "from keras.layers import Input, Dense\n"
      ],
      "execution_count": 334,
      "outputs": []
    },
    {
      "cell_type": "code",
      "metadata": {
        "id": "OqbYtsTzTP3V"
      },
      "source": [
        "# load the data\n",
        "(trainX, trainY), (testX, testY) = cifar10.load_data()"
      ],
      "execution_count": 335,
      "outputs": []
    },
    {
      "cell_type": "code",
      "metadata": {
        "colab": {
          "base_uri": "https://localhost:8080/"
        },
        "id": "CYjX6w50TQUk",
        "outputId": "5993121e-8fee-4843-a8e8-deaa12696d43"
      },
      "source": [
        "print(trainX.shape)\n",
        "print(testX.shape)\n",
        "# trainY is (50000,1) and they are labels\n",
        "print(trainY.shape)\n",
        "print(testY.shape)"
      ],
      "execution_count": 336,
      "outputs": [
        {
          "output_type": "stream",
          "name": "stdout",
          "text": [
            "(50000, 32, 32, 3)\n",
            "(10000, 32, 32, 3)\n",
            "(50000, 1)\n",
            "(10000, 1)\n"
          ]
        }
      ]
    },
    {
      "cell_type": "code",
      "metadata": {
        "id": "UhcubMweTTVs"
      },
      "source": [
        "# Color to Gray\n",
        "x_train = np.array([cv2.cvtColor(image, cv2.COLOR_BGR2GRAY) for image in trainX])\n",
        "x_test = np.array([cv2.cvtColor(image, cv2.COLOR_BGR2GRAY) for image in testX])"
      ],
      "execution_count": 337,
      "outputs": []
    },
    {
      "cell_type": "code",
      "metadata": {
        "colab": {
          "base_uri": "https://localhost:8080/"
        },
        "id": "AeMa3yt8TVAb",
        "outputId": "e499e77a-4146-472a-fd9c-3d80a99524c8"
      },
      "source": [
        "print(x_train.shape)\n",
        "print(x_test.shape)"
      ],
      "execution_count": 338,
      "outputs": [
        {
          "output_type": "stream",
          "name": "stdout",
          "text": [
            "(50000, 32, 32)\n",
            "(10000, 32, 32)\n"
          ]
        }
      ]
    },
    {
      "cell_type": "code",
      "metadata": {
        "colab": {
          "base_uri": "https://localhost:8080/"
        },
        "id": "CluEYe0GTW1s",
        "outputId": "13859101-11b7-4dde-e18e-61cf0f5d09da"
      },
      "source": [
        "# normalize the images\n",
        "x_train = x_train/255.0\n",
        "x_test = x_test/255.0\n",
        "\n",
        "# get the shape of data after normalization\n",
        "print(x_train.shape)"
      ],
      "execution_count": 339,
      "outputs": [
        {
          "output_type": "stream",
          "name": "stdout",
          "text": [
            "(50000, 32, 32)\n"
          ]
        }
      ]
    },
    {
      "cell_type": "code",
      "metadata": {
        "colab": {
          "base_uri": "https://localhost:8080/"
        },
        "id": "Krh_COm6TY3U",
        "outputId": "bc6670f8-b948-40a3-bf48-9a5590813265"
      },
      "source": [
        "# reshape 50000*32*32 to 50000*1042\n",
        "x_train = np.reshape(x_train,(50000,1024))\n",
        "x_test = np.reshape(x_test,(10000,1024))\n",
        "# print the shape of x_train and x_test after reshape\n",
        "print(x_train.shape)\n",
        "print(x_test.shape)"
      ],
      "execution_count": 340,
      "outputs": [
        {
          "output_type": "stream",
          "name": "stdout",
          "text": [
            "(50000, 1024)\n",
            "(10000, 1024)\n"
          ]
        }
      ]
    },
    {
      "cell_type": "code",
      "metadata": {
        "id": "QdZS1BWUoIqd"
      },
      "source": [
        "def initial_centroids(length, K):\n",
        "  idx = np.random.choice(length,K,replace = False)\n",
        "  return idx"
      ],
      "execution_count": 341,
      "outputs": []
    },
    {
      "cell_type": "code",
      "metadata": {
        "id": "HC9BWxi-pNig"
      },
      "source": [
        "def mean_function(centroid_index, initil_centroids_index, data):\n",
        "  mean_value = data[centroid_index==initil_centroids_index].mean(axis=0)\n",
        "  return mean_value"
      ],
      "execution_count": 342,
      "outputs": []
    },
    {
      "cell_type": "code",
      "metadata": {
        "id": "UU6xX0YbrMpH"
      },
      "source": [
        "def minimum_distance_centroid(centroid, data):\n",
        "  distance = cdist(data, centroid ,'euclidean')\n",
        "  minimum_distance = np.array([np.argmin(i) for i in distance])\n",
        "  return minimum_distance"
      ],
      "execution_count": 343,
      "outputs": []
    },
    {
      "cell_type": "code",
      "metadata": {
        "id": "GCiuYqe6t1V0"
      },
      "source": [
        "def kmeans_function(data, iterations):\n",
        "    index = initial_centroids(len(data), 10)\n",
        "    #Choosing Random Centroids \n",
        "    centroids = data[index, :]\n",
        "    min_dist_centroid = minimum_distance_centroid(centroids,data)\n",
        "    for _ in range(iterations): \n",
        "        centroids = []\n",
        "        for index in range(10):\n",
        "          index = 0\n",
        "          while index < 10:\n",
        "            temp_centroid = mean_function(min_dist_centroid,index,data) \n",
        "            centroids.append(temp_centroid)\n",
        "            index += 1\n",
        "        centroids = np.vstack(centroids) \n",
        "        min_dist_centroid = minimum_distance_centroid(centroids,data)   \n",
        "    return min_dist_centroid "
      ],
      "execution_count": 344,
      "outputs": []
    },
    {
      "cell_type": "code",
      "metadata": {
        "id": "lZacoYStToGt",
        "colab": {
          "base_uri": "https://localhost:8080/"
        },
        "outputId": "a1e67a2d-7be2-471c-ea27-9a22628b3fe6"
      },
      "source": [
        "kmean_scratch = kmeans_function(x_test,100)\n",
        "silhouette_score1 = silhouette_score(x_test, kmean_scratch)\n",
        "print(silhouette_score1)"
      ],
      "execution_count": 345,
      "outputs": [
        {
          "output_type": "stream",
          "name": "stdout",
          "text": [
            "0.053588923228439715\n"
          ]
        }
      ]
    },
    {
      "cell_type": "code",
      "metadata": {
        "id": "y4BzM1eEgxLk"
      },
      "source": [
        "# Part 2"
      ],
      "execution_count": 346,
      "outputs": []
    },
    {
      "cell_type": "code",
      "metadata": {
        "id": "99uuHaKjUv2P"
      },
      "source": [
        "# Auto encoders\n",
        "\n",
        "input_layer = Input(shape=(1024,))\n",
        "encoded_layer = Dense(512, activation='relu')(input_layer)\n",
        "bottleneck = Dense(256, activation = 'relu')(encoded_layer)\n",
        "decoded_layer = Dense(512, activation='linear')(bottleneck)\n",
        "output_layer = Dense(1024, activation='linear')(decoded_layer)\n",
        "\n",
        "autoencoder_model = Model(input_layer, output_layer)"
      ],
      "execution_count": 347,
      "outputs": []
    },
    {
      "cell_type": "code",
      "metadata": {
        "id": "27fv_jjiU5F7"
      },
      "source": [
        "autoencoder_model.compile(optimizer='adam', loss='mean_squared_error')"
      ],
      "execution_count": 348,
      "outputs": []
    },
    {
      "cell_type": "code",
      "metadata": {
        "id": "qqg-kfu-U8Ma",
        "colab": {
          "base_uri": "https://localhost:8080/"
        },
        "outputId": "8bbc4973-f2b0-4f30-e33b-023939ebc51f"
      },
      "source": [
        "autoencoder_model.fit(x_train, x_train,\n",
        "                epochs=10,\n",
        "                batch_size=1024)"
      ],
      "execution_count": 349,
      "outputs": [
        {
          "output_type": "stream",
          "name": "stdout",
          "text": [
            "Epoch 1/10\n",
            "49/49 [==============================] - 1s 13ms/step - loss: 0.0563\n",
            "Epoch 2/10\n",
            "49/49 [==============================] - 1s 12ms/step - loss: 0.0252\n",
            "Epoch 3/10\n",
            "49/49 [==============================] - 1s 11ms/step - loss: 0.0193\n",
            "Epoch 4/10\n",
            "49/49 [==============================] - 1s 11ms/step - loss: 0.0163\n",
            "Epoch 5/10\n",
            "49/49 [==============================] - 1s 11ms/step - loss: 0.0153\n",
            "Epoch 6/10\n",
            "49/49 [==============================] - 1s 11ms/step - loss: 0.0135\n",
            "Epoch 7/10\n",
            "49/49 [==============================] - 1s 11ms/step - loss: 0.0125\n",
            "Epoch 8/10\n",
            "49/49 [==============================] - 1s 11ms/step - loss: 0.0117\n",
            "Epoch 9/10\n",
            "49/49 [==============================] - 1s 11ms/step - loss: 0.0112\n",
            "Epoch 10/10\n",
            "49/49 [==============================] - 1s 11ms/step - loss: 0.0108\n"
          ]
        },
        {
          "output_type": "execute_result",
          "data": {
            "text/plain": [
              "<keras.callbacks.History at 0x7f220804e790>"
            ]
          },
          "metadata": {},
          "execution_count": 349
        }
      ]
    },
    {
      "cell_type": "code",
      "metadata": {
        "id": "elyBGp-aw0QE"
      },
      "source": [
        "predict1 = autoencoder_model.predict(x_train)"
      ],
      "execution_count": 350,
      "outputs": []
    },
    {
      "cell_type": "code",
      "metadata": {
        "id": "Twp9s6FzvncN"
      },
      "source": [
        "encoder_model_for_kmeans = Model(input_layer, bottleneck)"
      ],
      "execution_count": 351,
      "outputs": []
    },
    {
      "cell_type": "code",
      "metadata": {
        "id": "KSo2Le5KWVW7"
      },
      "source": [
        "predict2 = encoder_model_for_kmeans.predict(x_train)"
      ],
      "execution_count": 352,
      "outputs": []
    },
    {
      "cell_type": "code",
      "metadata": {
        "id": "jOD3JYulVzya"
      },
      "source": [
        "scikit_KMeans = KMeans(n_clusters = 10,random_state = 0).fit(predict2)\n"
      ],
      "execution_count": 353,
      "outputs": []
    },
    {
      "cell_type": "code",
      "metadata": {
        "colab": {
          "base_uri": "https://localhost:8080/"
        },
        "id": "O-dVErcsWl6C",
        "outputId": "02144ec9-1460-45e9-c470-2bceb6ae5ac4"
      },
      "source": [
        "silhouette_score = silhouette_score(predict2, scikit_KMeans.labels_)\n",
        "print(silhouette_score)"
      ],
      "execution_count": 354,
      "outputs": [
        {
          "output_type": "stream",
          "name": "stdout",
          "text": [
            "0.07771354\n"
          ]
        }
      ]
    }
  ]
}